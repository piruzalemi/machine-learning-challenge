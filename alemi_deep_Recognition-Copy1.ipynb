{
 "cells": [
  {
   "cell_type": "code",
   "execution_count": 8,
   "metadata": {},
   "outputs": [],
   "source": [
    "# Set the seed value for the notebook so the results are reproducible\n",
    "from numpy.random import seed\n",
    "seed(1)"
   ]
  },
  {
   "cell_type": "code",
   "execution_count": 9,
   "metadata": {
    "slideshow": {
     "slide_type": "subslide"
    }
   },
   "outputs": [],
   "source": [
    "# Dependencies\n",
    "import numpy as np\n",
    "import pandas as pd"
   ]
  },
  {
   "cell_type": "code",
   "execution_count": 10,
   "metadata": {},
   "outputs": [
    {
     "data": {
      "text/plain": [
       "'2.2.4-tf'"
      ]
     },
     "execution_count": 10,
     "metadata": {},
     "output_type": "execute_result"
    }
   ],
   "source": [
    "import tensorflow\n",
    "tensorflow.keras.__version__"
   ]
  },
  {
   "cell_type": "markdown",
   "metadata": {},
   "source": []
  },
  {
   "cell_type": "code",
   "execution_count": 11,
   "metadata": {
    "slideshow": {
     "slide_type": "fragment"
    }
   },
   "outputs": [
    {
     "data": {
      "text/html": [
       "<div>\n",
       "<style scoped>\n",
       "    .dataframe tbody tr th:only-of-type {\n",
       "        vertical-align: middle;\n",
       "    }\n",
       "\n",
       "    .dataframe tbody tr th {\n",
       "        vertical-align: top;\n",
       "    }\n",
       "\n",
       "    .dataframe thead th {\n",
       "        text-align: right;\n",
       "    }\n",
       "</style>\n",
       "<table border=\"1\" class=\"dataframe\">\n",
       "  <thead>\n",
       "    <tr style=\"text-align: right;\">\n",
       "      <th></th>\n",
       "      <th>koi_disposition</th>\n",
       "      <th>koi_fpflag_nt</th>\n",
       "      <th>koi_fpflag_ss</th>\n",
       "      <th>koi_fpflag_co</th>\n",
       "      <th>koi_fpflag_ec</th>\n",
       "      <th>koi_period</th>\n",
       "      <th>koi_period_err1</th>\n",
       "      <th>koi_period_err2</th>\n",
       "      <th>koi_time0bk</th>\n",
       "      <th>koi_time0bk_err1</th>\n",
       "      <th>...</th>\n",
       "      <th>koi_steff_err2</th>\n",
       "      <th>koi_slogg</th>\n",
       "      <th>koi_slogg_err1</th>\n",
       "      <th>koi_slogg_err2</th>\n",
       "      <th>koi_srad</th>\n",
       "      <th>koi_srad_err1</th>\n",
       "      <th>koi_srad_err2</th>\n",
       "      <th>ra</th>\n",
       "      <th>dec</th>\n",
       "      <th>koi_kepmag</th>\n",
       "    </tr>\n",
       "  </thead>\n",
       "  <tbody>\n",
       "    <tr>\n",
       "      <td>0</td>\n",
       "      <td>CONFIRMED</td>\n",
       "      <td>0</td>\n",
       "      <td>0</td>\n",
       "      <td>0</td>\n",
       "      <td>0</td>\n",
       "      <td>54.418383</td>\n",
       "      <td>2.479000e-04</td>\n",
       "      <td>-2.479000e-04</td>\n",
       "      <td>162.513840</td>\n",
       "      <td>0.003520</td>\n",
       "      <td>...</td>\n",
       "      <td>-81</td>\n",
       "      <td>4.467</td>\n",
       "      <td>0.064</td>\n",
       "      <td>-0.096</td>\n",
       "      <td>0.927</td>\n",
       "      <td>0.105</td>\n",
       "      <td>-0.061</td>\n",
       "      <td>291.93423</td>\n",
       "      <td>48.141651</td>\n",
       "      <td>15.347</td>\n",
       "    </tr>\n",
       "    <tr>\n",
       "      <td>1</td>\n",
       "      <td>FALSE POSITIVE</td>\n",
       "      <td>0</td>\n",
       "      <td>1</td>\n",
       "      <td>0</td>\n",
       "      <td>0</td>\n",
       "      <td>19.899140</td>\n",
       "      <td>1.490000e-05</td>\n",
       "      <td>-1.490000e-05</td>\n",
       "      <td>175.850252</td>\n",
       "      <td>0.000581</td>\n",
       "      <td>...</td>\n",
       "      <td>-176</td>\n",
       "      <td>4.544</td>\n",
       "      <td>0.044</td>\n",
       "      <td>-0.176</td>\n",
       "      <td>0.868</td>\n",
       "      <td>0.233</td>\n",
       "      <td>-0.078</td>\n",
       "      <td>297.00482</td>\n",
       "      <td>48.134129</td>\n",
       "      <td>15.436</td>\n",
       "    </tr>\n",
       "    <tr>\n",
       "      <td>2</td>\n",
       "      <td>FALSE POSITIVE</td>\n",
       "      <td>0</td>\n",
       "      <td>1</td>\n",
       "      <td>0</td>\n",
       "      <td>0</td>\n",
       "      <td>1.736952</td>\n",
       "      <td>2.630000e-07</td>\n",
       "      <td>-2.630000e-07</td>\n",
       "      <td>170.307565</td>\n",
       "      <td>0.000115</td>\n",
       "      <td>...</td>\n",
       "      <td>-174</td>\n",
       "      <td>4.564</td>\n",
       "      <td>0.053</td>\n",
       "      <td>-0.168</td>\n",
       "      <td>0.791</td>\n",
       "      <td>0.201</td>\n",
       "      <td>-0.067</td>\n",
       "      <td>285.53461</td>\n",
       "      <td>48.285210</td>\n",
       "      <td>15.597</td>\n",
       "    </tr>\n",
       "    <tr>\n",
       "      <td>3</td>\n",
       "      <td>CONFIRMED</td>\n",
       "      <td>0</td>\n",
       "      <td>0</td>\n",
       "      <td>0</td>\n",
       "      <td>0</td>\n",
       "      <td>2.525592</td>\n",
       "      <td>3.760000e-06</td>\n",
       "      <td>-3.760000e-06</td>\n",
       "      <td>171.595550</td>\n",
       "      <td>0.001130</td>\n",
       "      <td>...</td>\n",
       "      <td>-211</td>\n",
       "      <td>4.438</td>\n",
       "      <td>0.070</td>\n",
       "      <td>-0.210</td>\n",
       "      <td>1.046</td>\n",
       "      <td>0.334</td>\n",
       "      <td>-0.133</td>\n",
       "      <td>288.75488</td>\n",
       "      <td>48.226200</td>\n",
       "      <td>15.509</td>\n",
       "    </tr>\n",
       "    <tr>\n",
       "      <td>4</td>\n",
       "      <td>CONFIRMED</td>\n",
       "      <td>0</td>\n",
       "      <td>0</td>\n",
       "      <td>0</td>\n",
       "      <td>0</td>\n",
       "      <td>4.134435</td>\n",
       "      <td>1.050000e-05</td>\n",
       "      <td>-1.050000e-05</td>\n",
       "      <td>172.979370</td>\n",
       "      <td>0.001900</td>\n",
       "      <td>...</td>\n",
       "      <td>-232</td>\n",
       "      <td>4.486</td>\n",
       "      <td>0.054</td>\n",
       "      <td>-0.229</td>\n",
       "      <td>0.972</td>\n",
       "      <td>0.315</td>\n",
       "      <td>-0.105</td>\n",
       "      <td>296.28613</td>\n",
       "      <td>48.224670</td>\n",
       "      <td>15.714</td>\n",
       "    </tr>\n",
       "  </tbody>\n",
       "</table>\n",
       "<p>5 rows × 41 columns</p>\n",
       "</div>"
      ],
      "text/plain": [
       "  koi_disposition  koi_fpflag_nt  koi_fpflag_ss  koi_fpflag_co  koi_fpflag_ec  \\\n",
       "0       CONFIRMED              0              0              0              0   \n",
       "1  FALSE POSITIVE              0              1              0              0   \n",
       "2  FALSE POSITIVE              0              1              0              0   \n",
       "3       CONFIRMED              0              0              0              0   \n",
       "4       CONFIRMED              0              0              0              0   \n",
       "\n",
       "   koi_period  koi_period_err1  koi_period_err2  koi_time0bk  \\\n",
       "0   54.418383     2.479000e-04    -2.479000e-04   162.513840   \n",
       "1   19.899140     1.490000e-05    -1.490000e-05   175.850252   \n",
       "2    1.736952     2.630000e-07    -2.630000e-07   170.307565   \n",
       "3    2.525592     3.760000e-06    -3.760000e-06   171.595550   \n",
       "4    4.134435     1.050000e-05    -1.050000e-05   172.979370   \n",
       "\n",
       "   koi_time0bk_err1  ...  koi_steff_err2  koi_slogg  koi_slogg_err1  \\\n",
       "0          0.003520  ...             -81      4.467           0.064   \n",
       "1          0.000581  ...            -176      4.544           0.044   \n",
       "2          0.000115  ...            -174      4.564           0.053   \n",
       "3          0.001130  ...            -211      4.438           0.070   \n",
       "4          0.001900  ...            -232      4.486           0.054   \n",
       "\n",
       "   koi_slogg_err2  koi_srad  koi_srad_err1  koi_srad_err2         ra  \\\n",
       "0          -0.096     0.927          0.105         -0.061  291.93423   \n",
       "1          -0.176     0.868          0.233         -0.078  297.00482   \n",
       "2          -0.168     0.791          0.201         -0.067  285.53461   \n",
       "3          -0.210     1.046          0.334         -0.133  288.75488   \n",
       "4          -0.229     0.972          0.315         -0.105  296.28613   \n",
       "\n",
       "         dec  koi_kepmag  \n",
       "0  48.141651      15.347  \n",
       "1  48.134129      15.436  \n",
       "2  48.285210      15.597  \n",
       "3  48.226200      15.509  \n",
       "4  48.224670      15.714  \n",
       "\n",
       "[5 rows x 41 columns]"
      ]
     },
     "execution_count": 11,
     "metadata": {},
     "output_type": "execute_result"
    }
   ],
   "source": [
    "df = pd.read_csv(\"exoplanet_data.csv\")\n",
    "# Drop the null columns where all values are null\n",
    "df = df.dropna(axis='columns', how='all')\n",
    "# Drop the null rows\n",
    "df = df.dropna()\n",
    "df.head()\n"
   ]
  },
  {
   "cell_type": "code",
   "execution_count": 12,
   "metadata": {},
   "outputs": [],
   "source": [
    "# Set features. This will also be used as your x values.\n",
    "selected_features = df[['koi_disposition','koi_fpflag_nt', 'koi_period', 'koi_time0bk', 'koi_srad', 'koi_duration', 'koi_depth', 'koi_teq']]"
   ]
  },
  {
   "cell_type": "markdown",
   "metadata": {
    "slideshow": {
     "slide_type": "subslide"
    }
   },
   "source": [
    "## Data Pre-Processing"
   ]
  },
  {
   "cell_type": "code",
   "execution_count": 13,
   "metadata": {
    "nbgrader": {
     "grade": false,
     "grade_id": "cell-86a9e3212f200d21",
     "locked": false,
     "schema_version": 1,
     "solution": true
    },
    "slideshow": {
     "slide_type": "subslide"
    }
   },
   "outputs": [
    {
     "name": "stdout",
     "output_type": "stream",
     "text": [
      "Shape:  (6991, 7) (6991, 1)\n"
     ]
    }
   ],
   "source": [
    "# Assign the data to X and y\n",
    "# Note: Sklearn requires a two-dimensional array of values\n",
    "# so we use reshape to create this\n",
    "\n",
    "\n",
    "y = selected_features[\"koi_disposition\"].values.reshape(-1, 1)\n",
    "#X = selected_features#.values.reshape(-1, 1)\n",
    "X = selected_features.drop(\"koi_disposition\", axis=1)\n",
    "\n",
    "print(\"Shape: \", X.shape, y.shape)"
   ]
  },
  {
   "cell_type": "code",
   "execution_count": 14,
   "metadata": {},
   "outputs": [],
   "source": [
    "from sklearn.preprocessing import LabelEncoder\n",
    "\n",
    "# y = selected_features[\"koi_disposition\"]\n",
    "# Step 1: Label-encode data set\n",
    "#label_encoder = LabelEncoder()\n",
    "#label_encoder.fit(y)\n",
    "#encoded_y = label_encoder.transform(y)\n",
    "#encoded_y"
   ]
  },
  {
   "cell_type": "code",
   "execution_count": 15,
   "metadata": {},
   "outputs": [],
   "source": [
    "# for label, original_class in zip(encoded_y, y):\n",
    "#     print('Original Class: ' + str(original_class))\n",
    "#     print('Encoded Label: ' + str(label))\n",
    "#     print('-' * 12)"
   ]
  },
  {
   "cell_type": "code",
   "execution_count": 16,
   "metadata": {
    "nbgrader": {
     "grade": false,
     "grade_id": "cell-711a82d9b32c83ff",
     "locked": false,
     "schema_version": 1,
     "solution": true
    },
    "slideshow": {
     "slide_type": "fragment"
    }
   },
   "outputs": [],
   "source": [
    "from sklearn.model_selection import train_test_split\n",
    "from sklearn.preprocessing import LabelEncoder, MinMaxScaler, StandardScaler\n",
    "from tensorflow.keras.utils import to_categorical"
   ]
  },
  {
   "cell_type": "code",
   "execution_count": 17,
   "metadata": {},
   "outputs": [],
   "source": [
    "sc=StandardScaler()"
   ]
  },
  {
   "cell_type": "code",
   "execution_count": 18,
   "metadata": {
    "nbgrader": {
     "grade": false,
     "grade_id": "cell-711a82d9b32c83ff",
     "locked": false,
     "schema_version": 1,
     "solution": true
    },
    "slideshow": {
     "slide_type": "fragment"
    }
   },
   "outputs": [],
   "source": [
    "X_train, X_test, y_train, y_test = train_test_split(\n",
    "    X, y, random_state=1, stratify=y)"
   ]
  },
  {
   "cell_type": "code",
   "execution_count": 19,
   "metadata": {
    "nbgrader": {
     "grade": false,
     "grade_id": "cell-711a82d9b32c83ff",
     "locked": false,
     "schema_version": 1,
     "solution": true
    },
    "slideshow": {
     "slide_type": "fragment"
    }
   },
   "outputs": [
    {
     "data": {
      "text/plain": [
       "array([[0.00000000e+00, 9.28255675e-02, 7.30562805e-02, 2.31229514e-03,\n",
       "        5.78870155e-03, 1.61444927e-03, 1.16638079e-02],\n",
       "       [0.00000000e+00, 3.10394504e-04, 8.20211788e-03, 2.92111753e-03,\n",
       "        8.80952209e-03, 2.58525976e-03, 1.00102916e-01],\n",
       "       [0.00000000e+00, 9.08688399e-03, 1.24870083e-02, 6.02672669e-03,\n",
       "        2.66540438e-02, 2.23369453e-03, 5.59176672e-02],\n",
       "       [0.00000000e+00, 1.66347053e-01, 7.22355477e-02, 6.34651219e-03,\n",
       "        1.99663229e-02, 2.43302728e-02, 1.84562607e-02],\n",
       "       [0.00000000e+00, 4.20499971e-02, 1.33974734e-02, 5.70694119e-03,\n",
       "        4.81524575e-02, 3.04659585e-04, 2.96397942e-02],\n",
       "       [0.00000000e+00, 6.29025690e-04, 8.53275207e-03, 5.95293003e-03,\n",
       "        9.04540626e-03, 9.24586048e-03, 1.29468268e-01],\n",
       "       [0.00000000e+00, 7.18471851e-03, 1.10348934e-02, 6.64169880e-03,\n",
       "        3.20452689e-02, 4.06249544e-03, 6.66895369e-02],\n",
       "       [0.00000000e+00, 4.68154478e-03, 1.11543352e-02, 4.93207633e-03,\n",
       "        3.70303455e-02, 5.09928522e-05, 6.32590051e-02],\n",
       "       [0.00000000e+00, 6.68271934e-03, 1.28687322e-02, 1.97283053e-02,\n",
       "        5.13611760e-02, 4.22345379e-05, 9.14579760e-02],\n",
       "       [1.00000000e+00, 3.26881615e-01, 4.75193398e-02, 3.52993992e-03,\n",
       "        1.21432649e-01, 8.79918645e-04, 7.54716981e-03]])"
      ]
     },
     "execution_count": 19,
     "metadata": {},
     "output_type": "execute_result"
    }
   ],
   "source": [
    "X_scaler = MinMaxScaler().fit(X_train)\n",
    "X_train_scaled = X_scaler.transform(X_train)\n",
    "X_test_scaled = X_scaler.transform(X_test)\n",
    "X_train_scaled[:10]"
   ]
  },
  {
   "cell_type": "code",
   "execution_count": 20,
   "metadata": {
    "nbgrader": {
     "grade": false,
     "grade_id": "cell-711a82d9b32c83ff",
     "locked": false,
     "schema_version": 1,
     "solution": true
    },
    "slideshow": {
     "slide_type": "fragment"
    }
   },
   "outputs": [
    {
     "name": "stderr",
     "output_type": "stream",
     "text": [
      "/Users/piruzalemi/opt/anaconda3/lib/python3.7/site-packages/sklearn/preprocessing/label.py:219: DataConversionWarning: A column-vector y was passed when a 1d array was expected. Please change the shape of y to (n_samples, ), for example using ravel().\n",
      "  y = column_or_1d(y, warn=True)\n",
      "/Users/piruzalemi/opt/anaconda3/lib/python3.7/site-packages/sklearn/preprocessing/label.py:252: DataConversionWarning: A column-vector y was passed when a 1d array was expected. Please change the shape of y to (n_samples, ), for example using ravel().\n",
      "  y = column_or_1d(y, warn=True)\n"
     ]
    }
   ],
   "source": [
    "# Step 1: Label-encode data set\n",
    "label_encoder = LabelEncoder()\n",
    "label_encoder.fit(y_train)\n",
    "encoded_y_train = label_encoder.transform(y_train)\n",
    "encoded_y_test = label_encoder.transform(y_test)"
   ]
  },
  {
   "cell_type": "code",
   "execution_count": 21,
   "metadata": {
    "nbgrader": {
     "grade": false,
     "grade_id": "cell-711a82d9b32c83ff",
     "locked": false,
     "schema_version": 1,
     "solution": true
    },
    "slideshow": {
     "slide_type": "fragment"
    }
   },
   "outputs": [],
   "source": [
    "# Step 2: Convert encoded labels to one-hot-encoding\n",
    "y_train_categorical = to_categorical(encoded_y_train)\n",
    "y_test_categorical = to_categorical(encoded_y_test)"
   ]
  },
  {
   "cell_type": "markdown",
   "metadata": {},
   "source": [
    "# Create a Deep Learning Model"
   ]
  },
  {
   "cell_type": "code",
   "execution_count": 22,
   "metadata": {},
   "outputs": [],
   "source": [
    "from tensorflow.keras.models import Sequential\n",
    "from tensorflow.keras.layers import Dense"
   ]
  },
  {
   "cell_type": "code",
   "execution_count": 23,
   "metadata": {},
   "outputs": [],
   "source": [
    "# Create model and add layers\n",
    "model = Sequential()\n",
    "model.add(Dense(units=100, activation='relu', input_dim=7))\n",
    "model.add(Dense(units=100, activation='relu'))\n",
    "model.add(Dense(units=3, activation='softmax'))"
   ]
  },
  {
   "cell_type": "code",
   "execution_count": 24,
   "metadata": {},
   "outputs": [],
   "source": [
    "# Compile and fit the model\n",
    "model.compile(optimizer='adam',\n",
    "              loss='categorical_crossentropy',\n",
    "              metrics=['accuracy'])"
   ]
  },
  {
   "cell_type": "code",
   "execution_count": 25,
   "metadata": {},
   "outputs": [
    {
     "name": "stdout",
     "output_type": "stream",
     "text": [
      "Model: \"sequential\"\n",
      "_________________________________________________________________\n",
      "Layer (type)                 Output Shape              Param #   \n",
      "=================================================================\n",
      "dense (Dense)                (None, 100)               800       \n",
      "_________________________________________________________________\n",
      "dense_1 (Dense)              (None, 100)               10100     \n",
      "_________________________________________________________________\n",
      "dense_2 (Dense)              (None, 3)                 303       \n",
      "=================================================================\n",
      "Total params: 11,203\n",
      "Trainable params: 11,203\n",
      "Non-trainable params: 0\n",
      "_________________________________________________________________\n"
     ]
    }
   ],
   "source": [
    "model.summary()"
   ]
  },
  {
   "cell_type": "code",
   "execution_count": 26,
   "metadata": {
    "scrolled": false
   },
   "outputs": [
    {
     "name": "stdout",
     "output_type": "stream",
     "text": [
      "Train on 5243 samples\n",
      "Epoch 1/60\n",
      "5243/5243 - 0s - loss: 0.8747 - accuracy: 0.5566\n",
      "Epoch 2/60\n",
      "5243/5243 - 0s - loss: 0.7587 - accuracy: 0.6531\n",
      "Epoch 3/60\n",
      "5243/5243 - 0s - loss: 0.7326 - accuracy: 0.6565\n",
      "Epoch 4/60\n",
      "5243/5243 - 0s - loss: 0.7228 - accuracy: 0.6639\n",
      "Epoch 5/60\n",
      "5243/5243 - 0s - loss: 0.7123 - accuracy: 0.6727\n",
      "Epoch 6/60\n",
      "5243/5243 - 0s - loss: 0.7066 - accuracy: 0.6737\n",
      "Epoch 7/60\n",
      "5243/5243 - 0s - loss: 0.7028 - accuracy: 0.6733\n",
      "Epoch 8/60\n",
      "5243/5243 - 0s - loss: 0.7012 - accuracy: 0.6761\n",
      "Epoch 9/60\n",
      "5243/5243 - 0s - loss: 0.7006 - accuracy: 0.6759\n",
      "Epoch 10/60\n",
      "5243/5243 - 0s - loss: 0.6972 - accuracy: 0.6756\n",
      "Epoch 11/60\n",
      "5243/5243 - 0s - loss: 0.6935 - accuracy: 0.6807\n",
      "Epoch 12/60\n",
      "5243/5243 - 0s - loss: 0.6901 - accuracy: 0.6836\n",
      "Epoch 13/60\n",
      "5243/5243 - 0s - loss: 0.6878 - accuracy: 0.6826\n",
      "Epoch 14/60\n",
      "5243/5243 - 0s - loss: 0.6861 - accuracy: 0.6906\n",
      "Epoch 15/60\n",
      "5243/5243 - 0s - loss: 0.6841 - accuracy: 0.6849\n",
      "Epoch 16/60\n",
      "5243/5243 - 0s - loss: 0.6810 - accuracy: 0.6847\n",
      "Epoch 17/60\n",
      "5243/5243 - 0s - loss: 0.6760 - accuracy: 0.6948\n",
      "Epoch 18/60\n",
      "5243/5243 - 0s - loss: 0.6804 - accuracy: 0.6851\n",
      "Epoch 19/60\n",
      "5243/5243 - 0s - loss: 0.6761 - accuracy: 0.6906\n",
      "Epoch 20/60\n",
      "5243/5243 - 0s - loss: 0.6713 - accuracy: 0.6878\n",
      "Epoch 21/60\n",
      "5243/5243 - 0s - loss: 0.6706 - accuracy: 0.6969\n",
      "Epoch 22/60\n",
      "5243/5243 - 0s - loss: 0.6681 - accuracy: 0.6998\n",
      "Epoch 23/60\n",
      "5243/5243 - 0s - loss: 0.6654 - accuracy: 0.6958\n",
      "Epoch 24/60\n",
      "5243/5243 - 0s - loss: 0.6650 - accuracy: 0.6931\n",
      "Epoch 25/60\n",
      "5243/5243 - 0s - loss: 0.6651 - accuracy: 0.6946\n",
      "Epoch 26/60\n",
      "5243/5243 - 0s - loss: 0.6591 - accuracy: 0.7002\n",
      "Epoch 27/60\n",
      "5243/5243 - 0s - loss: 0.6583 - accuracy: 0.6939\n",
      "Epoch 28/60\n",
      "5243/5243 - 0s - loss: 0.6582 - accuracy: 0.6983\n",
      "Epoch 29/60\n",
      "5243/5243 - 0s - loss: 0.6558 - accuracy: 0.6992\n",
      "Epoch 30/60\n",
      "5243/5243 - 0s - loss: 0.6564 - accuracy: 0.6977\n",
      "Epoch 31/60\n",
      "5243/5243 - 0s - loss: 0.6540 - accuracy: 0.6992\n",
      "Epoch 32/60\n",
      "5243/5243 - 0s - loss: 0.6526 - accuracy: 0.7000\n",
      "Epoch 33/60\n",
      "5243/5243 - 0s - loss: 0.6515 - accuracy: 0.6992\n",
      "Epoch 34/60\n",
      "5243/5243 - 0s - loss: 0.6526 - accuracy: 0.7000\n",
      "Epoch 35/60\n",
      "5243/5243 - 0s - loss: 0.6483 - accuracy: 0.7015\n",
      "Epoch 36/60\n",
      "5243/5243 - 0s - loss: 0.6501 - accuracy: 0.7028\n",
      "Epoch 37/60\n",
      "5243/5243 - 0s - loss: 0.6443 - accuracy: 0.6979\n",
      "Epoch 38/60\n",
      "5243/5243 - 0s - loss: 0.6452 - accuracy: 0.7049\n",
      "Epoch 39/60\n",
      "5243/5243 - 0s - loss: 0.6420 - accuracy: 0.7027\n",
      "Epoch 40/60\n",
      "5243/5243 - 0s - loss: 0.6435 - accuracy: 0.7110\n",
      "Epoch 41/60\n",
      "5243/5243 - 0s - loss: 0.6434 - accuracy: 0.7017\n",
      "Epoch 42/60\n",
      "5243/5243 - 0s - loss: 0.6402 - accuracy: 0.7080\n",
      "Epoch 43/60\n",
      "5243/5243 - 0s - loss: 0.6383 - accuracy: 0.7053\n",
      "Epoch 44/60\n",
      "5243/5243 - 0s - loss: 0.6379 - accuracy: 0.7057\n",
      "Epoch 45/60\n",
      "5243/5243 - 0s - loss: 0.6392 - accuracy: 0.7030\n",
      "Epoch 46/60\n",
      "5243/5243 - 0s - loss: 0.6365 - accuracy: 0.7091\n",
      "Epoch 47/60\n",
      "5243/5243 - 0s - loss: 0.6363 - accuracy: 0.7088\n",
      "Epoch 48/60\n",
      "5243/5243 - 0s - loss: 0.6316 - accuracy: 0.7049\n",
      "Epoch 49/60\n",
      "5243/5243 - 0s - loss: 0.6312 - accuracy: 0.7149\n",
      "Epoch 50/60\n",
      "5243/5243 - 0s - loss: 0.6271 - accuracy: 0.7097\n",
      "Epoch 51/60\n",
      "5243/5243 - 0s - loss: 0.6292 - accuracy: 0.7080\n",
      "Epoch 52/60\n",
      "5243/5243 - 0s - loss: 0.6294 - accuracy: 0.7124\n",
      "Epoch 53/60\n",
      "5243/5243 - 0s - loss: 0.6337 - accuracy: 0.7076\n",
      "Epoch 54/60\n",
      "5243/5243 - 0s - loss: 0.6291 - accuracy: 0.7183\n",
      "Epoch 55/60\n",
      "5243/5243 - 0s - loss: 0.6255 - accuracy: 0.7099\n",
      "Epoch 56/60\n",
      "5243/5243 - 0s - loss: 0.6292 - accuracy: 0.7116\n",
      "Epoch 57/60\n",
      "5243/5243 - 0s - loss: 0.6252 - accuracy: 0.7099\n",
      "Epoch 58/60\n",
      "5243/5243 - 0s - loss: 0.6227 - accuracy: 0.7173\n",
      "Epoch 59/60\n",
      "5243/5243 - 0s - loss: 0.6200 - accuracy: 0.7170\n",
      "Epoch 60/60\n",
      "5243/5243 - 0s - loss: 0.6219 - accuracy: 0.7147\n"
     ]
    },
    {
     "data": {
      "text/plain": [
       "<tensorflow.python.keras.callbacks.History at 0x149472490>"
      ]
     },
     "execution_count": 26,
     "metadata": {},
     "output_type": "execute_result"
    }
   ],
   "source": [
    "model.fit(\n",
    "    X_train_scaled,\n",
    "    y_train_categorical,\n",
    "    epochs=60,\n",
    "    shuffle=True,\n",
    "    verbose=2\n",
    ")"
   ]
  },
  {
   "cell_type": "markdown",
   "metadata": {},
   "source": [
    "## Quantify our Trained Model"
   ]
  },
  {
   "cell_type": "code",
   "execution_count": 19,
   "metadata": {
    "scrolled": true
   },
   "outputs": [
    {
     "name": "stdout",
     "output_type": "stream",
     "text": [
      "1748/1748 - 0s - loss: 0.6440 - accuracy: 0.6991\n",
      "Normal Neural Network - Loss: 0.643965362411342, Accuracy: 0.6990846395492554\n"
     ]
    }
   ],
   "source": [
    "model_loss, model_accuracy = model.evaluate(\n",
    "    X_test_scaled, y_test_categorical, verbose=2)\n",
    "print(\n",
    "    f\"Normal Neural Network - Loss: {model_loss}, Accuracy: {model_accuracy}\")"
   ]
  },
  {
   "cell_type": "markdown",
   "metadata": {
    "slideshow": {
     "slide_type": "subslide"
    }
   },
   "source": [
    "## Make Predictions Transform..."
   ]
  },
  {
   "cell_type": "code",
   "execution_count": 20,
   "metadata": {
    "nbgrader": {
     "grade": false,
     "grade_id": "cell-f97eb3e97245187b",
     "locked": false,
     "schema_version": 1,
     "solution": true
    },
    "slideshow": {
     "slide_type": "fragment"
    }
   },
   "outputs": [],
   "source": [
    "encoded_predictions = model.predict_classes(X_test_scaled[:5])\n",
    "prediction_labels = label_encoder.inverse_transform(encoded_predictions)"
   ]
  },
  {
   "cell_type": "code",
   "execution_count": 21,
   "metadata": {},
   "outputs": [
    {
     "name": "stdout",
     "output_type": "stream",
     "text": [
      "Predicted classes: ['FALSE POSITIVE' 'FALSE POSITIVE' 'FALSE POSITIVE' 'CANDIDATE'\n",
      " 'CANDIDATE']\n",
      "Actual Labels: [array(['CANDIDATE'], dtype=object), array(['FALSE POSITIVE'], dtype=object), array(['FALSE POSITIVE'], dtype=object), array(['CANDIDATE'], dtype=object), array(['FALSE POSITIVE'], dtype=object)]\n"
     ]
    }
   ],
   "source": [
    "print(f\"Predicted classes: {prediction_labels}\")\n",
    "print(f\"Actual Labels: {list(y_test[:5])}\")"
   ]
  },
  {
   "cell_type": "code",
   "execution_count": null,
   "metadata": {},
   "outputs": [],
   "source": []
  },
  {
   "cell_type": "code",
   "execution_count": null,
   "metadata": {},
   "outputs": [],
   "source": []
  }
 ],
 "metadata": {
  "kernelspec": {
   "display_name": "Python 3",
   "language": "python",
   "name": "python3"
  },
  "language_info": {
   "codemirror_mode": {
    "name": "ipython",
    "version": 3
   },
   "file_extension": ".py",
   "mimetype": "text/x-python",
   "name": "python",
   "nbconvert_exporter": "python",
   "pygments_lexer": "ipython3",
   "version": "3.7.4"
  },
  "varInspector": {
   "cols": {
    "lenName": 16,
    "lenType": 16,
    "lenVar": 40
   },
   "kernels_config": {
    "python": {
     "delete_cmd_postfix": "",
     "delete_cmd_prefix": "del ",
     "library": "var_list.py",
     "varRefreshCmd": "print(var_dic_list())"
    },
    "r": {
     "delete_cmd_postfix": ") ",
     "delete_cmd_prefix": "rm(",
     "library": "var_list.r",
     "varRefreshCmd": "cat(var_dic_list()) "
    }
   },
   "types_to_exclude": [
    "module",
    "function",
    "builtin_function_or_method",
    "instance",
    "_Feature"
   ],
   "window_display": false
  }
 },
 "nbformat": 4,
 "nbformat_minor": 2
}
